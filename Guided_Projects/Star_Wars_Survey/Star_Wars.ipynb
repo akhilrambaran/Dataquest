{
 "cells": [
  {
   "cell_type": "markdown",
   "metadata": {},
   "source": [
    "# Guided Project: Star Wars Survey\n",
    "\n",
    "In this project, we will aim to answer the question:\n",
    "\n",
    "**Does the rest of America realize that “The Empire Strikes Back” is clearly the best of the bunch?**\n",
    "## Data\n",
    "\n",
    "We will be using the Star Wars Survey data collected by FiveThirtyEight from 835 Star Wars fans. The data is available on their [[github page]](https://github.com/fivethirtyeight/data/tree/master/star-wars-survey)."
   ]
  },
  {
   "cell_type": "code",
   "execution_count": 495,
   "metadata": {},
   "outputs": [],
   "source": [
    "import pandas as pd\n",
    "import matplotlib.pyplot as plt"
   ]
  },
  {
   "cell_type": "code",
   "execution_count": 496,
   "metadata": {},
   "outputs": [],
   "source": [
    "# Read in the dataset\n",
    "star_wars = pd.read_csv(\"star_wars.csv\")"
   ]
  },
  {
   "cell_type": "code",
   "execution_count": 509,
   "metadata": {},
   "outputs": [
    {
     "data": {
      "text/html": [
       "<div>\n",
       "<style scoped>\n",
       "    .dataframe tbody tr th:only-of-type {\n",
       "        vertical-align: middle;\n",
       "    }\n",
       "\n",
       "    .dataframe tbody tr th {\n",
       "        vertical-align: top;\n",
       "    }\n",
       "\n",
       "    .dataframe thead th {\n",
       "        text-align: right;\n",
       "    }\n",
       "</style>\n",
       "<table border=\"1\" class=\"dataframe\">\n",
       "  <thead>\n",
       "    <tr style=\"text-align: right;\">\n",
       "      <th></th>\n",
       "      <th>RespondentID</th>\n",
       "      <th>Have you seen any of the 6 films in the Star Wars franchise?</th>\n",
       "      <th>Do you consider yourself to be a fan of the Star Wars film franchise?</th>\n",
       "      <th>seen_1</th>\n",
       "      <th>seen_2</th>\n",
       "      <th>seen_3</th>\n",
       "      <th>seen_4</th>\n",
       "      <th>seen_5</th>\n",
       "      <th>seen_6</th>\n",
       "      <th>ranking_1</th>\n",
       "      <th>...</th>\n",
       "      <th>Unnamed: 28</th>\n",
       "      <th>Which character shot first?</th>\n",
       "      <th>Are you familiar with the Expanded Universe?</th>\n",
       "      <th>Do you consider yourself to be a fan of the Expanded Universe?</th>\n",
       "      <th>Do you consider yourself to be a fan of the Star Trek franchise?</th>\n",
       "      <th>Gender</th>\n",
       "      <th>Age</th>\n",
       "      <th>Household Income</th>\n",
       "      <th>Education</th>\n",
       "      <th>Location (Census Region)</th>\n",
       "    </tr>\n",
       "  </thead>\n",
       "  <tbody>\n",
       "    <tr>\n",
       "      <th>0</th>\n",
       "      <td>3292879998</td>\n",
       "      <td>True</td>\n",
       "      <td>True</td>\n",
       "      <td>True</td>\n",
       "      <td>True</td>\n",
       "      <td>True</td>\n",
       "      <td>True</td>\n",
       "      <td>True</td>\n",
       "      <td>True</td>\n",
       "      <td>3.0</td>\n",
       "      <td>...</td>\n",
       "      <td>Very favorably</td>\n",
       "      <td>I don't understand this question</td>\n",
       "      <td>Yes</td>\n",
       "      <td>No</td>\n",
       "      <td>No</td>\n",
       "      <td>Male</td>\n",
       "      <td>18-29</td>\n",
       "      <td>NaN</td>\n",
       "      <td>High school degree</td>\n",
       "      <td>South Atlantic</td>\n",
       "    </tr>\n",
       "    <tr>\n",
       "      <th>1</th>\n",
       "      <td>3292879538</td>\n",
       "      <td>False</td>\n",
       "      <td>NaN</td>\n",
       "      <td>False</td>\n",
       "      <td>False</td>\n",
       "      <td>False</td>\n",
       "      <td>False</td>\n",
       "      <td>False</td>\n",
       "      <td>False</td>\n",
       "      <td>NaN</td>\n",
       "      <td>...</td>\n",
       "      <td>NaN</td>\n",
       "      <td>NaN</td>\n",
       "      <td>NaN</td>\n",
       "      <td>NaN</td>\n",
       "      <td>Yes</td>\n",
       "      <td>Male</td>\n",
       "      <td>18-29</td>\n",
       "      <td>$0 - $24,999</td>\n",
       "      <td>Bachelor degree</td>\n",
       "      <td>West South Central</td>\n",
       "    </tr>\n",
       "    <tr>\n",
       "      <th>2</th>\n",
       "      <td>3292765271</td>\n",
       "      <td>True</td>\n",
       "      <td>False</td>\n",
       "      <td>True</td>\n",
       "      <td>True</td>\n",
       "      <td>True</td>\n",
       "      <td>False</td>\n",
       "      <td>False</td>\n",
       "      <td>False</td>\n",
       "      <td>1.0</td>\n",
       "      <td>...</td>\n",
       "      <td>Unfamiliar (N/A)</td>\n",
       "      <td>I don't understand this question</td>\n",
       "      <td>No</td>\n",
       "      <td>NaN</td>\n",
       "      <td>No</td>\n",
       "      <td>Male</td>\n",
       "      <td>18-29</td>\n",
       "      <td>$0 - $24,999</td>\n",
       "      <td>High school degree</td>\n",
       "      <td>West North Central</td>\n",
       "    </tr>\n",
       "    <tr>\n",
       "      <th>3</th>\n",
       "      <td>3292763116</td>\n",
       "      <td>True</td>\n",
       "      <td>True</td>\n",
       "      <td>True</td>\n",
       "      <td>True</td>\n",
       "      <td>True</td>\n",
       "      <td>True</td>\n",
       "      <td>True</td>\n",
       "      <td>True</td>\n",
       "      <td>5.0</td>\n",
       "      <td>...</td>\n",
       "      <td>Very favorably</td>\n",
       "      <td>I don't understand this question</td>\n",
       "      <td>No</td>\n",
       "      <td>NaN</td>\n",
       "      <td>Yes</td>\n",
       "      <td>Male</td>\n",
       "      <td>18-29</td>\n",
       "      <td>$100,000 - $149,999</td>\n",
       "      <td>Some college or Associate degree</td>\n",
       "      <td>West North Central</td>\n",
       "    </tr>\n",
       "    <tr>\n",
       "      <th>4</th>\n",
       "      <td>3292731220</td>\n",
       "      <td>True</td>\n",
       "      <td>True</td>\n",
       "      <td>True</td>\n",
       "      <td>True</td>\n",
       "      <td>True</td>\n",
       "      <td>True</td>\n",
       "      <td>True</td>\n",
       "      <td>True</td>\n",
       "      <td>5.0</td>\n",
       "      <td>...</td>\n",
       "      <td>Somewhat favorably</td>\n",
       "      <td>Greedo</td>\n",
       "      <td>Yes</td>\n",
       "      <td>No</td>\n",
       "      <td>No</td>\n",
       "      <td>Male</td>\n",
       "      <td>18-29</td>\n",
       "      <td>$100,000 - $149,999</td>\n",
       "      <td>Some college or Associate degree</td>\n",
       "      <td>West North Central</td>\n",
       "    </tr>\n",
       "    <tr>\n",
       "      <th>5</th>\n",
       "      <td>3292719380</td>\n",
       "      <td>True</td>\n",
       "      <td>True</td>\n",
       "      <td>True</td>\n",
       "      <td>True</td>\n",
       "      <td>True</td>\n",
       "      <td>True</td>\n",
       "      <td>True</td>\n",
       "      <td>True</td>\n",
       "      <td>1.0</td>\n",
       "      <td>...</td>\n",
       "      <td>Very favorably</td>\n",
       "      <td>Han</td>\n",
       "      <td>Yes</td>\n",
       "      <td>No</td>\n",
       "      <td>Yes</td>\n",
       "      <td>Male</td>\n",
       "      <td>18-29</td>\n",
       "      <td>$25,000 - $49,999</td>\n",
       "      <td>Bachelor degree</td>\n",
       "      <td>Middle Atlantic</td>\n",
       "    </tr>\n",
       "    <tr>\n",
       "      <th>6</th>\n",
       "      <td>3292684787</td>\n",
       "      <td>True</td>\n",
       "      <td>True</td>\n",
       "      <td>True</td>\n",
       "      <td>True</td>\n",
       "      <td>True</td>\n",
       "      <td>True</td>\n",
       "      <td>True</td>\n",
       "      <td>True</td>\n",
       "      <td>6.0</td>\n",
       "      <td>...</td>\n",
       "      <td>Very favorably</td>\n",
       "      <td>Han</td>\n",
       "      <td>Yes</td>\n",
       "      <td>No</td>\n",
       "      <td>No</td>\n",
       "      <td>Male</td>\n",
       "      <td>18-29</td>\n",
       "      <td>NaN</td>\n",
       "      <td>High school degree</td>\n",
       "      <td>East North Central</td>\n",
       "    </tr>\n",
       "    <tr>\n",
       "      <th>7</th>\n",
       "      <td>3292663732</td>\n",
       "      <td>True</td>\n",
       "      <td>True</td>\n",
       "      <td>True</td>\n",
       "      <td>True</td>\n",
       "      <td>True</td>\n",
       "      <td>True</td>\n",
       "      <td>True</td>\n",
       "      <td>True</td>\n",
       "      <td>4.0</td>\n",
       "      <td>...</td>\n",
       "      <td>Very favorably</td>\n",
       "      <td>Han</td>\n",
       "      <td>No</td>\n",
       "      <td>NaN</td>\n",
       "      <td>Yes</td>\n",
       "      <td>Male</td>\n",
       "      <td>18-29</td>\n",
       "      <td>NaN</td>\n",
       "      <td>High school degree</td>\n",
       "      <td>South Atlantic</td>\n",
       "    </tr>\n",
       "    <tr>\n",
       "      <th>8</th>\n",
       "      <td>3292654043</td>\n",
       "      <td>True</td>\n",
       "      <td>True</td>\n",
       "      <td>True</td>\n",
       "      <td>True</td>\n",
       "      <td>True</td>\n",
       "      <td>True</td>\n",
       "      <td>True</td>\n",
       "      <td>True</td>\n",
       "      <td>5.0</td>\n",
       "      <td>...</td>\n",
       "      <td>Somewhat favorably</td>\n",
       "      <td>Han</td>\n",
       "      <td>No</td>\n",
       "      <td>NaN</td>\n",
       "      <td>No</td>\n",
       "      <td>Male</td>\n",
       "      <td>18-29</td>\n",
       "      <td>$0 - $24,999</td>\n",
       "      <td>Some college or Associate degree</td>\n",
       "      <td>South Atlantic</td>\n",
       "    </tr>\n",
       "    <tr>\n",
       "      <th>9</th>\n",
       "      <td>3292640424</td>\n",
       "      <td>True</td>\n",
       "      <td>False</td>\n",
       "      <td>False</td>\n",
       "      <td>True</td>\n",
       "      <td>False</td>\n",
       "      <td>False</td>\n",
       "      <td>False</td>\n",
       "      <td>False</td>\n",
       "      <td>1.0</td>\n",
       "      <td>...</td>\n",
       "      <td>Very favorably</td>\n",
       "      <td>I don't understand this question</td>\n",
       "      <td>No</td>\n",
       "      <td>NaN</td>\n",
       "      <td>No</td>\n",
       "      <td>Male</td>\n",
       "      <td>18-29</td>\n",
       "      <td>$25,000 - $49,999</td>\n",
       "      <td>Some college or Associate degree</td>\n",
       "      <td>Pacific</td>\n",
       "    </tr>\n",
       "  </tbody>\n",
       "</table>\n",
       "<p>10 rows × 38 columns</p>\n",
       "</div>"
      ],
      "text/plain": [
       "   RespondentID  Have you seen any of the 6 films in the Star Wars franchise?  \\\n",
       "0    3292879998                                               True              \n",
       "1    3292879538                                              False              \n",
       "2    3292765271                                               True              \n",
       "3    3292763116                                               True              \n",
       "4    3292731220                                               True              \n",
       "5    3292719380                                               True              \n",
       "6    3292684787                                               True              \n",
       "7    3292663732                                               True              \n",
       "8    3292654043                                               True              \n",
       "9    3292640424                                               True              \n",
       "\n",
       "  Do you consider yourself to be a fan of the Star Wars film franchise?  \\\n",
       "0                                               True                      \n",
       "1                                                NaN                      \n",
       "2                                              False                      \n",
       "3                                               True                      \n",
       "4                                               True                      \n",
       "5                                               True                      \n",
       "6                                               True                      \n",
       "7                                               True                      \n",
       "8                                               True                      \n",
       "9                                              False                      \n",
       "\n",
       "  seen_1 seen_2 seen_3 seen_4 seen_5 seen_6  ranking_1  ...  \\\n",
       "0   True   True   True   True   True   True        3.0  ...   \n",
       "1  False  False  False  False  False  False        NaN  ...   \n",
       "2   True   True   True  False  False  False        1.0  ...   \n",
       "3   True   True   True   True   True   True        5.0  ...   \n",
       "4   True   True   True   True   True   True        5.0  ...   \n",
       "5   True   True   True   True   True   True        1.0  ...   \n",
       "6   True   True   True   True   True   True        6.0  ...   \n",
       "7   True   True   True   True   True   True        4.0  ...   \n",
       "8   True   True   True   True   True   True        5.0  ...   \n",
       "9  False   True  False  False  False  False        1.0  ...   \n",
       "\n",
       "          Unnamed: 28       Which character shot first?  \\\n",
       "0      Very favorably  I don't understand this question   \n",
       "1                 NaN                               NaN   \n",
       "2    Unfamiliar (N/A)  I don't understand this question   \n",
       "3      Very favorably  I don't understand this question   \n",
       "4  Somewhat favorably                            Greedo   \n",
       "5      Very favorably                               Han   \n",
       "6      Very favorably                               Han   \n",
       "7      Very favorably                               Han   \n",
       "8  Somewhat favorably                               Han   \n",
       "9      Very favorably  I don't understand this question   \n",
       "\n",
       "   Are you familiar with the Expanded Universe?  \\\n",
       "0                                           Yes   \n",
       "1                                           NaN   \n",
       "2                                            No   \n",
       "3                                            No   \n",
       "4                                           Yes   \n",
       "5                                           Yes   \n",
       "6                                           Yes   \n",
       "7                                            No   \n",
       "8                                            No   \n",
       "9                                            No   \n",
       "\n",
       "   Do you consider yourself to be a fan of the Expanded Universe?  \\\n",
       "0                                                 No                \n",
       "1                                                NaN                \n",
       "2                                                NaN                \n",
       "3                                                NaN                \n",
       "4                                                 No                \n",
       "5                                                 No                \n",
       "6                                                 No                \n",
       "7                                                NaN                \n",
       "8                                                NaN                \n",
       "9                                                NaN                \n",
       "\n",
       "   Do you consider yourself to be a fan of the Star Trek franchise? Gender  \\\n",
       "0                                                 No                  Male   \n",
       "1                                                Yes                  Male   \n",
       "2                                                 No                  Male   \n",
       "3                                                Yes                  Male   \n",
       "4                                                 No                  Male   \n",
       "5                                                Yes                  Male   \n",
       "6                                                 No                  Male   \n",
       "7                                                Yes                  Male   \n",
       "8                                                 No                  Male   \n",
       "9                                                 No                  Male   \n",
       "\n",
       "     Age     Household Income                         Education  \\\n",
       "0  18-29                  NaN                High school degree   \n",
       "1  18-29         $0 - $24,999                   Bachelor degree   \n",
       "2  18-29         $0 - $24,999                High school degree   \n",
       "3  18-29  $100,000 - $149,999  Some college or Associate degree   \n",
       "4  18-29  $100,000 - $149,999  Some college or Associate degree   \n",
       "5  18-29    $25,000 - $49,999                   Bachelor degree   \n",
       "6  18-29                  NaN                High school degree   \n",
       "7  18-29                  NaN                High school degree   \n",
       "8  18-29         $0 - $24,999  Some college or Associate degree   \n",
       "9  18-29    $25,000 - $49,999  Some college or Associate degree   \n",
       "\n",
       "  Location (Census Region)  \n",
       "0           South Atlantic  \n",
       "1       West South Central  \n",
       "2       West North Central  \n",
       "3       West North Central  \n",
       "4       West North Central  \n",
       "5          Middle Atlantic  \n",
       "6       East North Central  \n",
       "7           South Atlantic  \n",
       "8           South Atlantic  \n",
       "9                  Pacific  \n",
       "\n",
       "[10 rows x 38 columns]"
      ]
     },
     "execution_count": 509,
     "metadata": {},
     "output_type": "execute_result"
    }
   ],
   "source": [
    "# View the first 10 rows\n",
    "star_wars.head(10)"
   ]
  },
  {
   "cell_type": "code",
   "execution_count": 498,
   "metadata": {},
   "outputs": [
    {
     "data": {
      "text/plain": [
       "Index(['RespondentID',\n",
       "       'Have you seen any of the 6 films in the Star Wars franchise?',\n",
       "       'Do you consider yourself to be a fan of the Star Wars film franchise?',\n",
       "       'Which of the following Star Wars films have you seen? Please select all that apply.',\n",
       "       'Unnamed: 4', 'Unnamed: 5', 'Unnamed: 6', 'Unnamed: 7', 'Unnamed: 8',\n",
       "       'Please rank the Star Wars films in order of preference with 1 being your favorite film in the franchise and 6 being your least favorite film.',\n",
       "       'Unnamed: 10', 'Unnamed: 11', 'Unnamed: 12', 'Unnamed: 13',\n",
       "       'Unnamed: 14',\n",
       "       'Please state whether you view the following characters favorably, unfavorably, or are unfamiliar with him/her.',\n",
       "       'Unnamed: 16', 'Unnamed: 17', 'Unnamed: 18', 'Unnamed: 19',\n",
       "       'Unnamed: 20', 'Unnamed: 21', 'Unnamed: 22', 'Unnamed: 23',\n",
       "       'Unnamed: 24', 'Unnamed: 25', 'Unnamed: 26', 'Unnamed: 27',\n",
       "       'Unnamed: 28', 'Which character shot first?',\n",
       "       'Are you familiar with the Expanded Universe?',\n",
       "       'Do you consider yourself to be a fan of the Expanded Universe?',\n",
       "       'Do you consider yourself to be a fan of the Star Trek franchise?',\n",
       "       'Gender', 'Age', 'Household Income', 'Education',\n",
       "       'Location (Census Region)'],\n",
       "      dtype='object')"
      ]
     },
     "execution_count": 498,
     "metadata": {},
     "output_type": "execute_result"
    }
   ],
   "source": [
    "star_wars.columns"
   ]
  },
  {
   "cell_type": "code",
   "execution_count": 499,
   "metadata": {},
   "outputs": [],
   "source": [
    "# Convert the provided columns to boolean values\n",
    "def yes_no_columns_to_bool(df, col_start: int, col_end: int) -> None:\n",
    "    \"\"\"\n",
    "    Convert specified columns in the dataframe to boolean values.\n",
    "\n",
    "    Args:\n",
    "        df (pandas.DataFrame): The dataframe to use.\n",
    "        col_start (int): The starting index of the columns to convert.\n",
    "        col_end (int): The ending index of the columns to convert.\n",
    "\n",
    "    Returns:\n",
    "        None\n",
    "    \"\"\"\n",
    "    # Iterate over the specified columns\n",
    "    for col in df.iloc[:, col_start:col_end]:\n",
    "        # Map the values \"Yes\" to True and \"No\" to False\n",
    "        df[col] = df[col].map(\n",
    "            arg=lambda x: {\"Yes\": True, \"No\": False}[x], na_action=\"ignore\"\n",
    "        )\n",
    "\n",
    "    return None\n",
    "\n",
    "\n",
    "# Call the function with the specified column indices\n",
    "yes_no_columns_to_bool(df=star_wars, col_start=1, col_end=3)"
   ]
  },
  {
   "cell_type": "code",
   "execution_count": 500,
   "metadata": {},
   "outputs": [],
   "source": [
    "# Rename and convert the provided columns to boolean values\n",
    "def clean_and_convert_movie_columns(df, col_start: int, col_end: int) -> None:\n",
    "    \"\"\"\n",
    "    Clean and convert movie columns in the star_wars DataFrame to boolean values.\n",
    "\n",
    "    Args:\n",
    "        df (pandas.DataFrame): The dataframe to use.\n",
    "        col_start (int): The starting index of the columns to clean and convert.\n",
    "        col_end (int): The ending index of the columns to clean and convert.\n",
    "\n",
    "    Returns:\n",
    "        None\n",
    "    \"\"\"\n",
    "    # Iterate on the specifed columns using the 'enumerate' function\n",
    "    # Enumerate returns a index, value pair to allow for efficient iteration\n",
    "    # Rename the columns using the 'enumerate' function\n",
    "    [\n",
    "        df.rename(columns={col: col.replace(col, f\"seen_{idx+1}\")}, inplace=True)\n",
    "        for idx, col in enumerate(df.columns[col_start:col_end])\n",
    "    ]\n",
    "\n",
    "    # Get the most common movie mapping for each column as a list\n",
    "    movie_mapping = list(df.iloc[:, col_start:col_end].value_counts().index[0])\n",
    "\n",
    "    # Convert the movie columns to boolean values\n",
    "    # Returns \"True\" if the movie is in the mapping, \"False\" otherwise\n",
    "    df.iloc[:, col_start:col_end] = df.iloc[:, col_start:col_end].isin(movie_mapping)\n",
    "\n",
    "    return None\n",
    "\n",
    "\n",
    "# Call the function with the specified column indices\n",
    "clean_and_convert_movie_columns(df=star_wars, col_start=3, col_end=9)"
   ]
  },
  {
   "cell_type": "code",
   "execution_count": 501,
   "metadata": {},
   "outputs": [],
   "source": [
    "# Convert the provided columns to float values\n",
    "def clean_and_convert_ranking_columns(df, col_start: int, col_end: int) -> None:\n",
    "    \"\"\"\n",
    "    Clean and convert ranking columns in the star_wars DataFrame to float values.\n",
    "\n",
    "    Args:\n",
    "        df (pandas.DataFrame): The dataframe to use.\n",
    "        col_start (int): The starting index of the columns to clean and convert.\n",
    "        col_end (int): The ending index of the columns to clean and convert.\n",
    "\n",
    "    Returns:\n",
    "        None\n",
    "    \"\"\"\n",
    "    # Rename the columns using the 'enumerate' function\n",
    "    # Enumerate returns a index, value pair to allow for efficient iteration\n",
    "    [\n",
    "        df.rename(columns={col: col.replace(col, f\"ranking_{idx+1}\")}, inplace=True)\n",
    "        for idx, col in enumerate(df.columns[col_start:col_end])\n",
    "    ]\n",
    "\n",
    "    return None\n",
    "\n",
    "\n",
    "# Call the function with the specified column indices\n",
    "clean_and_convert_ranking_columns(df=star_wars, col_start=9, col_end=15)"
   ]
  },
  {
   "cell_type": "code",
   "execution_count": 502,
   "metadata": {},
   "outputs": [
    {
     "name": "stdout",
     "output_type": "stream",
     "text": [
      "<class 'pandas.core.frame.DataFrame'>\n",
      "RangeIndex: 1186 entries, 0 to 1185\n",
      "Data columns (total 38 columns):\n",
      " #   Column                                                                                                          Non-Null Count  Dtype  \n",
      "---  ------                                                                                                          --------------  -----  \n",
      " 0   RespondentID                                                                                                    1186 non-null   int64  \n",
      " 1   Have you seen any of the 6 films in the Star Wars franchise?                                                    1186 non-null   bool   \n",
      " 2   Do you consider yourself to be a fan of the Star Wars film franchise?                                           836 non-null    object \n",
      " 3   seen_1                                                                                                          1186 non-null   object \n",
      " 4   seen_2                                                                                                          1186 non-null   object \n",
      " 5   seen_3                                                                                                          1186 non-null   object \n",
      " 6   seen_4                                                                                                          1186 non-null   object \n",
      " 7   seen_5                                                                                                          1186 non-null   object \n",
      " 8   seen_6                                                                                                          1186 non-null   object \n",
      " 9   ranking_1                                                                                                       835 non-null    float64\n",
      " 10  ranking_2                                                                                                       836 non-null    float64\n",
      " 11  ranking_3                                                                                                       835 non-null    float64\n",
      " 12  ranking_4                                                                                                       836 non-null    float64\n",
      " 13  ranking_5                                                                                                       836 non-null    float64\n",
      " 14  ranking_6                                                                                                       836 non-null    float64\n",
      " 15  Please state whether you view the following characters favorably, unfavorably, or are unfamiliar with him/her.  829 non-null    object \n",
      " 16  Unnamed: 16                                                                                                     831 non-null    object \n",
      " 17  Unnamed: 17                                                                                                     831 non-null    object \n",
      " 18  Unnamed: 18                                                                                                     823 non-null    object \n",
      " 19  Unnamed: 19                                                                                                     825 non-null    object \n",
      " 20  Unnamed: 20                                                                                                     814 non-null    object \n",
      " 21  Unnamed: 21                                                                                                     826 non-null    object \n",
      " 22  Unnamed: 22                                                                                                     820 non-null    object \n",
      " 23  Unnamed: 23                                                                                                     812 non-null    object \n",
      " 24  Unnamed: 24                                                                                                     827 non-null    object \n",
      " 25  Unnamed: 25                                                                                                     830 non-null    object \n",
      " 26  Unnamed: 26                                                                                                     821 non-null    object \n",
      " 27  Unnamed: 27                                                                                                     814 non-null    object \n",
      " 28  Unnamed: 28                                                                                                     826 non-null    object \n",
      " 29  Which character shot first?                                                                                     828 non-null    object \n",
      " 30  Are you familiar with the Expanded Universe?                                                                    828 non-null    object \n",
      " 31  Do you consider yourself to be a fan of the Expanded Universe?                                                  213 non-null    object \n",
      " 32  Do you consider yourself to be a fan of the Star Trek franchise?                                                1068 non-null   object \n",
      " 33  Gender                                                                                                          1046 non-null   object \n",
      " 34  Age                                                                                                             1046 non-null   object \n",
      " 35  Household Income                                                                                                858 non-null    object \n",
      " 36  Education                                                                                                       1036 non-null   object \n",
      " 37  Location (Census Region)                                                                                        1043 non-null   object \n",
      "dtypes: bool(1), float64(6), int64(1), object(30)\n",
      "memory usage: 344.1+ KB\n"
     ]
    }
   ],
   "source": [
    "star_wars.info()"
   ]
  },
  {
   "cell_type": "code",
   "execution_count": 503,
   "metadata": {},
   "outputs": [],
   "source": [
    "# Calculate the mean of the provided columns\n",
    "def ranking_columns_mean(df, col_start: int, col_end: int) -> pd.Series:\n",
    "    \"\"\"\n",
    "    Calculate the mean of the columns in the given range.\n",
    "\n",
    "    Args:\n",
    "        df (pandas.DataFrame): The dataframe to use.\n",
    "        col_start (int): The start index of the columns range.\n",
    "        col_end (int): The end index of the columns range.\n",
    "\n",
    "    Returns:\n",
    "        pandas.Series: The mean of the columns.\n",
    "    \"\"\"\n",
    "    return df.iloc[:, col_start:col_end].mean()\n",
    "\n",
    "\n",
    "# Calculate the sum of the provided columns\n",
    "def seen_columns_sum(df, col_start: int, col_end: int) -> pd.Series:\n",
    "    \"\"\"\n",
    "    Calculate the sum of the columns in the given range.\n",
    "\n",
    "    Args:\n",
    "        df (pandas.DataFrame): The dataframe to use.\n",
    "        col_start (int): The start index of the columns range.\n",
    "        col_end (int): The end index of the columns range.\n",
    "\n",
    "    Returns:\n",
    "        pandas.Series: The sum of the columns.\n",
    "    \"\"\"\n",
    "    return df.iloc[:, col_start:col_end].sum()"
   ]
  },
  {
   "cell_type": "markdown",
   "metadata": {},
   "source": [
    "So far, we've cleaned up the data and renamed and converted multiple columns. Now, we can create some visualizations to get a better sense of the data."
   ]
  },
  {
   "cell_type": "markdown",
   "metadata": {},
   "source": [
    "## Rankings"
   ]
  },
  {
   "cell_type": "code",
   "execution_count": 504,
   "metadata": {},
   "outputs": [
    {
     "data": {
      "text/plain": [
       "'Average Rankings per movie'"
      ]
     },
     "metadata": {},
     "output_type": "display_data"
    },
    {
     "data": {
      "text/plain": [
       "ranking_1    3.732934\n",
       "ranking_2    4.087321\n",
       "ranking_3    4.341317\n",
       "ranking_4    3.272727\n",
       "ranking_5    2.513158\n",
       "ranking_6    3.047847\n",
       "dtype: float64"
      ]
     },
     "metadata": {},
     "output_type": "display_data"
    },
    {
     "data": {
      "image/png": "[encoded data removed]",
      "text/plain": [
       "<Figure size 640x480 with 1 Axes>"
      ]
     },
     "metadata": {},
     "output_type": "display_data"
    }
   ],
   "source": [
    "display(\n",
    "    \"Average Rankings per movie\",\n",
    "    ranking_columns_mean(df=star_wars, col_start=9, col_end=15),\n",
    ")\n",
    "ranking_columns_mean(df=star_wars, col_start=9, col_end=15).plot(\n",
    "    kind=\"bar\", rot=15, title=\"Average Rankings per movie\"\n",
    ")\n",
    "plt.show()"
   ]
  },
  {
   "cell_type": "markdown",
   "metadata": {},
   "source": [
    "As we suspected, the 'original' movies are rated more highly than the newer ones. However, we can also see that the average ranking for the newer movies is higher than the average ranking for the 'original' movies."
   ]
  },
  {
   "cell_type": "markdown",
   "metadata": {},
   "source": [
    "## View Counts"
   ]
  },
  {
   "cell_type": "code",
   "execution_count": 505,
   "metadata": {},
   "outputs": [
    {
     "data": {
      "text/plain": [
       "'Total Views per movie'"
      ]
     },
     "metadata": {},
     "output_type": "display_data"
    },
    {
     "data": {
      "text/plain": [
       "seen_1    673\n",
       "seen_2    571\n",
       "seen_3    550\n",
       "seen_4    607\n",
       "seen_5    758\n",
       "seen_6    738\n",
       "dtype: object"
      ]
     },
     "metadata": {},
     "output_type": "display_data"
    },
    {
     "data": {
      "image/png": "[encoded data removed]",
      "text/plain": [
       "<Figure size 640x480 with 1 Axes>"
      ]
     },
     "metadata": {},
     "output_type": "display_data"
    }
   ],
   "source": [
    "display(\"Total Views per movie\", seen_columns_sum(df=star_wars, col_start=3, col_end=9))\n",
    "seen_columns_sum(df=star_wars, col_start=3, col_end=9).plot(\n",
    "    kind=\"bar\", rot=15, title=\"Total Views per movie\"\n",
    ")\n",
    "plt.show()"
   ]
  },
  {
   "cell_type": "markdown",
   "metadata": {},
   "source": [
    "It appears that the majority of respondents viewed the original movies more than the newer ones. This reinforces the findings that the 'original' movies are rated more highly than the newer ones."
   ]
  },
  {
   "cell_type": "markdown",
   "metadata": {},
   "source": [
    "## Gender Differences"
   ]
  },
  {
   "cell_type": "code",
   "execution_count": 506,
   "metadata": {},
   "outputs": [],
   "source": [
    "males = star_wars.query(expr=\"Gender == 'Male'\")\n",
    "females = star_wars.query(expr=\"Gender == 'Female'\")"
   ]
  },
  {
   "cell_type": "code",
   "execution_count": 507,
   "metadata": {},
   "outputs": [
    {
     "data": {
      "text/plain": [
       "'Average Male Rakings per movie'"
      ]
     },
     "metadata": {},
     "output_type": "display_data"
    },
    {
     "data": {
      "text/plain": [
       "ranking_1    4.037825\n",
       "ranking_2    4.224586\n",
       "ranking_3    4.274882\n",
       "ranking_4    2.997636\n",
       "ranking_5    2.458629\n",
       "ranking_6    3.002364\n",
       "dtype: float64"
      ]
     },
     "metadata": {},
     "output_type": "display_data"
    },
    {
     "data": {
      "image/png": "[encoded data removed]",
      "text/plain": [
       "<Figure size 640x480 with 1 Axes>"
      ]
     },
     "metadata": {},
     "output_type": "display_data"
    },
    {
     "data": {
      "text/plain": [
       "'Average Female Rakings per movie'"
      ]
     },
     "metadata": {},
     "output_type": "display_data"
    },
    {
     "data": {
      "text/plain": [
       "ranking_1    3.429293\n",
       "ranking_2    3.954660\n",
       "ranking_3    4.418136\n",
       "ranking_4    3.544081\n",
       "ranking_5    2.569270\n",
       "ranking_6    3.078086\n",
       "dtype: float64"
      ]
     },
     "metadata": {},
     "output_type": "display_data"
    },
    {
     "data": {
      "image/png": "[encoded data removed]",
      "text/plain": [
       "<Figure size 640x480 with 1 Axes>"
      ]
     },
     "metadata": {},
     "output_type": "display_data"
    }
   ],
   "source": [
    "display(\n",
    "    \"Average Male Rakings per movie\",\n",
    "    ranking_columns_mean(df=males, col_start=9, col_end=15),\n",
    ")\n",
    "ranking_columns_mean(df=males, col_start=9, col_end=15).plot(\n",
    "    kind=\"bar\", rot=15, title=\"Average Male Rakings per movie\"\n",
    ")\n",
    "plt.show()\n",
    "\n",
    "display(\n",
    "    \"Average Female Rakings per movie\",\n",
    "    ranking_columns_mean(df=females, col_start=9, col_end=15),\n",
    ")\n",
    "ranking_columns_mean(df=females, col_start=9, col_end=15).plot(\n",
    "    kind=\"bar\", rot=15, title=\"Average Female Rakings per movie\"\n",
    ")\n",
    "plt.show()"
   ]
  },
  {
   "cell_type": "code",
   "execution_count": 508,
   "metadata": {},
   "outputs": [
    {
     "data": {
      "text/plain": [
       "'Total Male Views per movie'"
      ]
     },
     "metadata": {},
     "output_type": "display_data"
    },
    {
     "data": {
      "text/plain": [
       "seen_1    361\n",
       "seen_2    323\n",
       "seen_3    317\n",
       "seen_4    342\n",
       "seen_5    392\n",
       "seen_6    387\n",
       "dtype: object"
      ]
     },
     "metadata": {},
     "output_type": "display_data"
    },
    {
     "data": {
      "image/png": "[encoded data removed]",
      "text/plain": [
       "<Figure size 640x480 with 1 Axes>"
      ]
     },
     "metadata": {},
     "output_type": "display_data"
    },
    {
     "data": {
      "text/plain": [
       "'Total Female Views per movie'"
      ]
     },
     "metadata": {},
     "output_type": "display_data"
    },
    {
     "data": {
      "text/plain": [
       "seen_1    298\n",
       "seen_2    237\n",
       "seen_3    222\n",
       "seen_4    255\n",
       "seen_5    353\n",
       "seen_6    338\n",
       "dtype: object"
      ]
     },
     "metadata": {},
     "output_type": "display_data"
    },
    {
     "data": {
      "image/png": "[encoded data removed]",
      "text/plain": [
       "<Figure size 640x480 with 1 Axes>"
      ]
     },
     "metadata": {},
     "output_type": "display_data"
    }
   ],
   "source": [
    "display(\n",
    "    \"Total Male Views per movie\", seen_columns_sum(df=males, col_start=3, col_end=9)\n",
    ")\n",
    "seen_columns_sum(df=males, col_start=3, col_end=9).plot(\n",
    "    kind=\"bar\", rot=15, title=\"Total Male Views per movie\"\n",
    ")\n",
    "plt.show()\n",
    "\n",
    "display(\n",
    "    \"Total Female Views per movie\", seen_columns_sum(df=females, col_start=3, col_end=9)\n",
    ")\n",
    "seen_columns_sum(df=females, col_start=3, col_end=9).plot(\n",
    "    kind=\"bar\", rot=15, title=\"Total Female Views per movie\"\n",
    ")\n",
    "plt.show()"
   ]
  },
  {
   "cell_type": "markdown",
   "metadata": {},
   "source": [
    "As shown above, males tend to rate the 'original' movies lower despite viewing them more than females."
   ]
  }
 ],
 "metadata": {
  "kernelspec": {
   "display_name": "venv",
   "language": "python",
   "name": "python3"
  },
  "language_info": {
   "codemirror_mode": {
    "name": "ipython",
    "version": 3
   },
   "file_extension": ".py",
   "mimetype": "text/x-python",
   "name": "python",
   "nbconvert_exporter": "python",
   "pygments_lexer": "ipython3",
   "version": "3.11.6"
  }
 },
 "nbformat": 4,
 "nbformat_minor": 2
}
