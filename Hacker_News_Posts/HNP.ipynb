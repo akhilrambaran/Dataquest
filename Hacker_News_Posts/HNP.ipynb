{
 "cells": [
  {
   "cell_type": "markdown",
   "id": "4b463571",
   "metadata": {},
   "source": [
    "# <strong><p align='center'> Hacker News Posts </strong>"
   ]
  },
  {
   "cell_type": "markdown",
   "id": "d3596264",
   "metadata": {},
   "source": [
    "### About\n",
    "\n",
    "Hacker News is a site started by the startup incubator Y Combinator, where user-submitted stories (known as \"posts\") receive votes and comments, similar to reddit. Hacker News is extremely popular in technology and startup circles, and posts that make it to the top of the Hacker News listings can get hundreds of thousands of visitors as a result.\n",
    "\n",
    "The types of posts submitted are:\n",
    "<ol>    \n",
    "    <li>Ask posts: Posts submitted about a specific question</li>\n",
    "    <li>Show posts: Posts submitted about a project, product, or just something interesting</li>\n",
    "</ol>"
   ]
  },
  {
   "cell_type": "markdown",
   "id": "b83e9bc8",
   "metadata": {},
   "source": [
    "### Analysis\n",
    "\n",
    "This project will analyze this [dataset](https://www.kaggle.com/datasets/hacker-news/hacker-news-posts) and specifically look at posts marked 'Ask HN' and 'Show HN'. We will calculate and compare their averages and time submitted to determine which posts were preferred.\n",
    "\n",
    "Specifically, we will look to answer these questions:\n",
    "\n",
    "<ul>\n",
    "  <li>Do Ask HN or Show HN receive more comments on average?</li>\n",
    "  <li>Do posts created at a certain time receive more comments on average?</li>\n",
    "</ul>\n",
    "\n",
    "Below are the details of the dataset\n",
    "\n",
    "\n",
    "<table>\n",
    "  <tbody style=\"font-size:15px\">\n",
    "  <tr>\n",
    "    <th>Column</th>\n",
    "    <th>Description</th>\n",
    "  </tr>\n",
    "  <tr>\n",
    "    <th>id</th>\n",
    "    <td>the unique identifier from Hacker News for the post</td> \n",
    "  </tr>\n",
    "  <tr>\n",
    "    <th>title</th>\n",
    "    <td>the title of the post</td>\n",
    "  </tr>\n",
    "  <tr>  \n",
    "    <th>url</th>\n",
    "    <td>the URL that the posts links to, if the post has a URL</td>\n",
    "  </tr>\n",
    "  <tr>\n",
    "    <th>num_points</th>\n",
    "    <td>the number of points the post acquired, calculated as the total number of upvotes minus the total number of downvotes</td>\n",
    "  </tr>\n",
    "  <tr>\n",
    "    <th>num_comments</th>\n",
    "    <td>the number of comments on the post</td>\n",
    "  </tr>\n",
    "  <tr>\n",
    "    <th>author</th>\n",
    "    <td>the username of the person who submitted the post</td>\n",
    "  </tr>\n",
    "  <tr>\n",
    "    <th>created_at</th>\n",
    "    <td>the date and time of the post's submission</td>\n",
    "  </tr>\n",
    "  </tbody>\n",
    "</table>"
   ]
  },
  {
   "cell_type": "markdown",
   "id": "4626b136",
   "metadata": {},
   "source": [
    "#### Import necessary libraries"
   ]
  },
  {
   "cell_type": "code",
   "execution_count": 1,
   "id": "22b337c7",
   "metadata": {},
   "outputs": [
    {
     "data": {
      "text/html": [
       "\n",
       "                <script type=\"application/javascript\" id=\"jupyter_black\">\n",
       "                (function() {\n",
       "                    if (window.IPython === undefined) {\n",
       "                        return\n",
       "                    }\n",
       "                    var msg = \"WARNING: it looks like you might have loaded \" +\n",
       "                        \"jupyter_black in a non-lab notebook with \" +\n",
       "                        \"`is_lab=True`. Please double check, and if \" +\n",
       "                        \"loading with `%load_ext` please review the README!\"\n",
       "                    console.log(msg)\n",
       "                    alert(msg)\n",
       "                })()\n",
       "                </script>\n",
       "                "
      ],
      "text/plain": [
       "<IPython.core.display.HTML object>"
      ]
     },
     "metadata": {},
     "output_type": "display_data"
    }
   ],
   "source": [
    "\"\"\"\n",
    "This code sets up the necessary imports for a Jupyter Notebook project that works with Hacker News posts.\n",
    "\n",
    "The `reader` function from the `csv` module is imported to read CSV data.\n",
    "The `PrettyTable` class from the `prettytable` module is imported to create formatted tables.\n",
    "The `datetime` module is imported and aliased as `dt` for working with date and time data.\n",
    "\n",
    "The `%load_ext jupyter_black` line is a Jupyter Notebook magic command that reloads the `jupyter_black` extension, which is likely used to automatically format the Python code in the notebook using the Black code formatter.\n",
    "\"\"\"\n",
    "\n",
    "from csv import reader\n",
    "from prettytable import PrettyTable\n",
    "import datetime as dt\n",
    "\n",
    "%load_ext jupyter_black"
   ]
  },
  {
   "cell_type": "markdown",
   "id": "d6872c72",
   "metadata": {},
   "source": [
    "#### Load the data\n",
    "\n",
    "The following steps are performed whilst loading the data:\n",
    "<ol>\n",
    "    <li>Load the data</li>\n",
    "    <li>Extracting the column headers and data into separate lists</li>\n",
    "</ol>"
   ]
  },
  {
   "cell_type": "code",
   "execution_count": 2,
   "id": "a54693ce",
   "metadata": {},
   "outputs": [
    {
     "name": "stdout",
     "output_type": "stream",
     "text": [
      "[['id', 'title', 'url', 'num_points', 'num_comments', 'author', 'created_at'], ['12224879', 'Interactive Dynamic Video', 'http://www.interactivedynamicvideo.com/', '386', '52', 'ne0phyte', '8/4/2016 11:52'], ['10975351', 'How to Use Open Source and Shut the Fuck Up at the Same Time', 'http://hueniverse.com/2016/01/26/how-to-use-open-source-and-shut-the-fuck-up-at-the-same-time/', '39', '10', 'josep2', '1/26/2016 19:30'], ['11964716', \"Florida DJs May Face Felony for April Fools' Water Joke\", 'http://www.thewire.com/entertainment/2013/04/florida-djs-april-fools-water-joke/63798/', '2', '1', 'vezycash', '6/23/2016 22:20'], ['11919867', 'Technology ventures: From Idea to Enterprise', 'https://www.amazon.com/Technology-Ventures-Enterprise-Thomas-Byers/dp/0073523429', '3', '1', 'hswarna', '6/17/2016 0:01']]\n"
     ]
    }
   ],
   "source": [
    "\"\"\"\n",
    "The data is loaded using a context manager to ensure the file is properly closed after use.\n",
    "\"\"\"\n",
    "\n",
    "# Load the data\n",
    "with open(file=\"hacker_news.csv\", mode=\"r\") as hn:\n",
    "    hn = list(reader(hn))\n",
    "\n",
    "# View the first 5 rows\n",
    "print(hn[:5])"
   ]
  },
  {
   "cell_type": "code",
   "execution_count": 3,
   "id": "4d0aae51",
   "metadata": {},
   "outputs": [],
   "source": [
    "# Separate the headers from the data\n",
    "headers, hn = hn[0], hn[1:]"
   ]
  },
  {
   "cell_type": "code",
   "execution_count": 4,
   "id": "71b55ad8",
   "metadata": {},
   "outputs": [
    {
     "data": {
      "text/plain": [
       "['id', 'title', 'url', 'num_points', 'num_comments', 'author', 'created_at']"
      ]
     },
     "execution_count": 4,
     "metadata": {},
     "output_type": "execute_result"
    }
   ],
   "source": [
    "headers"
   ]
  },
  {
   "cell_type": "markdown",
   "id": "1224d214",
   "metadata": {},
   "source": [
    "#### Extracting Ask HN and Show HN Posts\n",
    "\n",
    "Since our focus is on 'Ask HN' & 'Show HN' posts, we will split the data into separate lists using a case-insensitive search to make analysis much easier.\n"
   ]
  },
  {
   "cell_type": "code",
   "execution_count": 5,
   "id": "888898ed",
   "metadata": {},
   "outputs": [
    {
     "data": {
      "text/html": [
       "<table>\n",
       "    <thead>\n",
       "        <tr>\n",
       "            <th>Type of Posts</th>\n",
       "            <th>Total Comments</th>\n",
       "        </tr>\n",
       "    </thead>\n",
       "    <tbody>\n",
       "        <tr>\n",
       "            <td>Ask</td>\n",
       "            <td>1744</td>\n",
       "        </tr>\n",
       "        <tr>\n",
       "            <td>Show</td>\n",
       "            <td>1162</td>\n",
       "        </tr>\n",
       "        <tr>\n",
       "            <td>Other</td>\n",
       "            <td>17194</td>\n",
       "        </tr>\n",
       "        <tr>\n",
       "            <td>Total</td>\n",
       "            <td>20100</td>\n",
       "        </tr>\n",
       "    </tbody>\n",
       "</table>"
      ],
      "text/plain": [
       "+---------------+----------------+\n",
       "| Type of Posts | Total Comments |\n",
       "+---------------+----------------+\n",
       "|      Ask      |      1744      |\n",
       "|      Show     |      1162      |\n",
       "|     Other     |     17194      |\n",
       "|     Total     |     20100      |\n",
       "+---------------+----------------+"
      ]
     },
     "execution_count": 5,
     "metadata": {},
     "output_type": "execute_result"
    }
   ],
   "source": [
    "ask_posts, show_posts, other_posts = [], [], []\n",
    "\n",
    "for row in hn:\n",
    "    title: str = row[1].lower()\n",
    "\n",
    "    if title.startswith(\"ask hn\"):  # startswith is case-insensitive\n",
    "        ask_posts.append(row)\n",
    "    elif title.startswith(\"show hn\"):\n",
    "        show_posts.append(row)\n",
    "    else:\n",
    "        other_posts.append(row)\n",
    "\n",
    "# View the number of posts in each list\n",
    "num_posts_per_type = PrettyTable(\n",
    "    field_names=[\n",
    "        \"Type of Posts\",\n",
    "        \"Total Comments\",\n",
    "    ]\n",
    ")\n",
    "# Add each row type and length to the table\n",
    "num_posts_per_type.add_rows(\n",
    "    [\n",
    "        [\"Ask\", len(ask_posts)],\n",
    "        [\"Show\", len(show_posts)],\n",
    "        [\"Other\", len(other_posts)],\n",
    "        [\"Total\", len(hn)],\n",
    "    ]\n",
    ")\n",
    "\n",
    "num_posts_per_type"
   ]
  },
  {
   "cell_type": "markdown",
   "id": "8ec4b2b0",
   "metadata": {},
   "source": [
    "#### Calculating the Average Number of Comments for Ask HN and Show HN Posts\n",
    "\n",
    "Now that the 'Ask HN' & 'Show HN' posts have been separated, we can calculate and compare their respective averages."
   ]
  },
  {
   "cell_type": "code",
   "execution_count": 6,
   "id": "27192b5a",
   "metadata": {},
   "outputs": [],
   "source": [
    "def calculate_total_comments(posts: list[list[str]], index: int) -> int:\n",
    "    \"\"\"Calculate the total number of comments from the provided posts.\n",
    "\n",
    "    Args:\n",
    "      posts: The list of posts.\n",
    "      index: The index of the field containing the number of comments.\n",
    "\n",
    "    Returns:\n",
    "      The total number of comments.\n",
    "    \"\"\"\n",
    "    return sum([int(post[index]) for post in posts])\n",
    "\n",
    "\n",
    "def calculate_avg_comments(posts: list[list[str]], index: int) -> float:\n",
    "    \"\"\"Calculate the average number of comments for the posts.\n",
    "\n",
    "    Args:\n",
    "      posts: The list of posts.\n",
    "      index: The index of the field containing the number of comments.\n",
    "\n",
    "    Returns:\n",
    "      The average number of comments, formatted to 4 decimal places.\n",
    "    \"\"\"\n",
    "    return float(f\"{calculate_total_comments(posts, index) / len(posts):.4f}\")"
   ]
  },
  {
   "cell_type": "code",
   "execution_count": 7,
   "id": "046784e3",
   "metadata": {},
   "outputs": [
    {
     "data": {
      "text/html": [
       "<table>\n",
       "    <thead>\n",
       "        <tr>\n",
       "            <th>Type of Posts</th>\n",
       "            <th>Total Comments</th>\n",
       "            <th>Average Comments</th>\n",
       "        </tr>\n",
       "    </thead>\n",
       "    <tbody>\n",
       "        <tr>\n",
       "            <td>Ask</td>\n",
       "            <td>24483</td>\n",
       "            <td>14.0384</td>\n",
       "        </tr>\n",
       "        <tr>\n",
       "            <td>Show</td>\n",
       "            <td>11988</td>\n",
       "            <td>10.3167</td>\n",
       "        </tr>\n",
       "    </tbody>\n",
       "</table>"
      ],
      "text/plain": [
       "+---------------+----------------+------------------+\n",
       "| Type of Posts | Total Comments | Average Comments |\n",
       "+---------------+----------------+------------------+\n",
       "|      Ask      |     24483      |     14.0384      |\n",
       "|      Show     |     11988      |     10.3167      |\n",
       "+---------------+----------------+------------------+"
      ]
     },
     "execution_count": 7,
     "metadata": {},
     "output_type": "execute_result"
    }
   ],
   "source": [
    "\"\"\"\n",
    "Calculates the total and average number of comments for \"Ask\" and \"Show\" posts on Hacker News.\n",
    "\n",
    "The `calculate_total_comments` and `calculate_avg_comments` functions are used to compute the total and average number of comments for the given list of posts and the specified index of the comment count.\n",
    "\n",
    "The results are then displayed in a PrettyTable with the following columns:\n",
    "- Type of Posts\n",
    "- Total Comments\n",
    "- Average Comments\n",
    "\"\"\"\n",
    "\n",
    "total_ask_posts_comments: int = calculate_total_comments(ask_posts, 4)\n",
    "avg_ask_posts_comments: float = calculate_avg_comments(ask_posts, 4)\n",
    "total_show_posts_comments: int = calculate_total_comments(show_posts, 4)\n",
    "avg_show_posts_comments: float = calculate_avg_comments(show_posts, 4)\n",
    "\n",
    "# View the total posts and averages\n",
    "posts_per_type = PrettyTable(\n",
    "    field_names=[\"Type of Posts\", \"Total Comments\", \"Average Comments\"]\n",
    ")\n",
    "# Add each post type and their information\n",
    "posts_per_type.add_rows(\n",
    "    [\n",
    "        [\"Ask\", total_ask_posts_comments, avg_ask_posts_comments],\n",
    "        [\"Show\", total_show_posts_comments, avg_show_posts_comments],\n",
    "    ]\n",
    ")\n",
    "\n",
    "posts_per_type"
   ]
  },
  {
   "cell_type": "markdown",
   "id": "80008aed",
   "metadata": {},
   "source": [
    "As 'Ask HN' posts have more comments on average, we will shift our focus towards those posts."
   ]
  },
  {
   "cell_type": "code",
   "execution_count": 8,
   "id": "0d1c58b0",
   "metadata": {},
   "outputs": [
    {
     "name": "stdout",
     "output_type": "stream",
     "text": [
      "On average, Ask HN posts 36.07% get more comments than Show HN posts\n"
     ]
    }
   ],
   "source": [
    "# Calculate the percentage difference between the comments\n",
    "pct_diff: float = (\n",
    "    100\n",
    "    * abs(avg_ask_posts_comments - avg_show_posts_comments)\n",
    "    / avg_show_posts_comments\n",
    ")\n",
    "\n",
    "print(f\"On average, Ask HN posts {pct_diff:.2f}% get more comments than Show HN posts\")"
   ]
  },
  {
   "cell_type": "markdown",
   "id": "a51b3f8c",
   "metadata": {},
   "source": [
    "#### Finding the Number of Ask Posts and Comments by Hour Created\n",
    "\n",
    "Next, we'll determine if ask posts created at a certain time are more likely to attract comments. We will group posts and their comments received by the hour. Then, we can calculate the average hourly posts submitted and comments received."
   ]
  },
  {
   "cell_type": "code",
   "execution_count": 9,
   "id": "add0157f",
   "metadata": {},
   "outputs": [],
   "source": [
    "# Extract the 'created_at' and number of comments for each 'Ask HN' post\n",
    "result_list: list[list[str | int]] = [[post[6], int(post[4])] for post in ask_posts]\n",
    "\n",
    "counts_per_hour: dict = {}\n",
    "comments_per_hour: dict = {}\n",
    "\n",
    "for row in result_list:\n",
    "    date, comment = row[0], row[1]\n",
    "    hour = dt.datetime.strptime(\n",
    "        date, \"%m/%d/%Y %H:%M\"\n",
    "    )  # Posts are submitted at US Eastern Time\n",
    "    timezone_adjustment = dt.timedelta(\n",
    "        hours=6\n",
    "    )  # Adjusting for 6 hour timezone difference between US Eastern Time and South African Standard Time\n",
    "    adjusted_hour = (hour + timezone_adjustment).strftime(\n",
    "        \"%H\"\n",
    "    )  # Extract the hour only after timezone adjustment\n",
    "\n",
    "    if adjusted_hour not in counts_per_hour:\n",
    "        counts_per_hour[adjusted_hour] = 1\n",
    "        comments_per_hour[adjusted_hour] = comment\n",
    "    else:\n",
    "        counts_per_hour[adjusted_hour] += 1\n",
    "        comments_per_hour[adjusted_hour] += comment"
   ]
  },
  {
   "cell_type": "markdown",
   "id": "fd228582",
   "metadata": {},
   "source": [
    "#### Calculating the Average Number of Comments for Ask HN Posts by Hour\n",
    "\n"
   ]
  },
  {
   "cell_type": "code",
   "execution_count": 10,
   "id": "81ed4dac",
   "metadata": {},
   "outputs": [
    {
     "data": {
      "text/plain": [
       "[['15', 5.58],\n",
       " ['19', 14.74],\n",
       " ['16', 13.44],\n",
       " ['20', 13.23],\n",
       " ['22', 16.8],\n",
       " ['05', 7.99],\n",
       " ['18', 9.41],\n",
       " ['23', 11.46],\n",
       " ['21', 38.59],\n",
       " ['03', 16.01],\n",
       " ['02', 21.52],\n",
       " ['08', 23.81],\n",
       " ['00', 13.2],\n",
       " ['09', 7.8],\n",
       " ['11', 10.09],\n",
       " ['01', 10.8],\n",
       " ['07', 11.38],\n",
       " ['04', 6.75],\n",
       " ['14', 10.25],\n",
       " ['10', 7.17],\n",
       " ['06', 8.13],\n",
       " ['12', 9.02],\n",
       " ['13', 7.85],\n",
       " ['17', 11.05]]"
      ]
     },
     "execution_count": 10,
     "metadata": {},
     "output_type": "execute_result"
    }
   ],
   "source": [
    "\"\"\"\n",
    "Calculates the average number of comments per hour and appends the hour and average to the `avg_by_hour` list.\n",
    "\n",
    "For each hour in the `comments_per_hour` dictionary, this code:\n",
    "1. Calculates the average number of comments per hour by dividing the total comments for that hour by the count of posts for that hour.\n",
    "2. Rounds the average to 2 decimal places.\n",
    "3. Appends a list containing the hour and the calculated average to the `avg_by_hour` list.\n",
    "\"\"\"\n",
    "\n",
    "avg_by_hour: list = []\n",
    "\n",
    "for hour in comments_per_hour:\n",
    "    avg = round((comments_per_hour[hour] / counts_per_hour[hour]), 2)\n",
    "    avg_by_hour.append([hour, avg])\n",
    "\n",
    "avg_by_hour"
   ]
  },
  {
   "cell_type": "markdown",
   "id": "a631853b",
   "metadata": {},
   "source": [
    "#### Sorting and Printing Values from a List of Lists"
   ]
  },
  {
   "cell_type": "code",
   "execution_count": 11,
   "id": "b32e0cd2",
   "metadata": {},
   "outputs": [
    {
     "data": {
      "text/plain": [
       "[[38.59, '21'],\n",
       " [23.81, '08'],\n",
       " [21.52, '02'],\n",
       " [16.8, '22'],\n",
       " [16.01, '03'],\n",
       " [14.74, '19'],\n",
       " [13.44, '16'],\n",
       " [13.23, '20'],\n",
       " [13.2, '00'],\n",
       " [11.46, '23'],\n",
       " [11.38, '07'],\n",
       " [11.05, '17'],\n",
       " [10.8, '01'],\n",
       " [10.25, '14'],\n",
       " [10.09, '11'],\n",
       " [9.41, '18'],\n",
       " [9.02, '12'],\n",
       " [8.13, '06'],\n",
       " [7.99, '05'],\n",
       " [7.85, '13'],\n",
       " [7.8, '09'],\n",
       " [7.17, '10'],\n",
       " [6.75, '04'],\n",
       " [5.58, '15']]"
      ]
     },
     "execution_count": 11,
     "metadata": {},
     "output_type": "execute_result"
    }
   ],
   "source": [
    "\"\"\"\n",
    "Sorts the average values by hour in descending order, with the hour as the primary sort key and the average value as the secondary sort key.\n",
    "\n",
    "The `swap_avg_by_hour` list swaps the order of the elements in each inner list of `avg_by_hour`, putting the hour first and the average second.\n",
    "\n",
    "`sorted_swap` then sorts `swap_avg_by_hour` in descending order by hour and average.\n",
    "\"\"\"\n",
    "\n",
    "swap_avg_by_hour = [[avg[1], avg[0]] for avg in avg_by_hour]\n",
    "sorted_swap = sorted(swap_avg_by_hour, key=lambda x: (x[0], x[1]), reverse=True)\n",
    "\n",
    "sorted_swap"
   ]
  },
  {
   "cell_type": "code",
   "execution_count": 12,
   "id": "d2af279f",
   "metadata": {},
   "outputs": [
    {
     "name": "stdout",
     "output_type": "stream",
     "text": [
      "21:00:00: 38.59 average comments per post\n",
      "08:00:00: 23.81 average comments per post\n",
      "02:00:00: 21.52 average comments per post\n",
      "22:00:00: 16.80 average comments per post\n",
      "03:00:00: 16.01 average comments per post\n"
     ]
    }
   ],
   "source": [
    "# Print the first 5 rows of results\n",
    "for post in sorted_swap[:5]:\n",
    "    time: str = dt.datetime.strptime(post[1], \"%H\").strftime(\"%X\")\n",
    "    avg_comments: str | float = post[0]\n",
    "    print(f\"{time}: {avg_comments:.2f} average comments per post\")\n",
    "\n",
    "# One-liner\n",
    "# for idx in range(5):\n",
    "#     print(\n",
    "#     f\"{dt.datetime.strptime(sorted_swap[idx][1],\"%H\").strftime(\"%X\")}: {sorted_swap[idx][0]:.2f} average comments per post\"\n",
    "#     )"
   ]
  },
  {
   "cell_type": "markdown",
   "id": "21374e9f",
   "metadata": {},
   "source": [
    "### Conclusion\n",
    "\n",
    "Based on the analysis done, we can now answer our initial questions.\n",
    "\n",
    "<ul>\n",
    "  <li>Do Ask HN or Show HN receive more comments on average?</li>\n",
    "  <dd>- 'Ask HN' posts receive <strong>36.07%</strong> more comments on average<br></br></dd>\n",
    "  \n",
    "  <li>Do posts created at a certain time receive more comments on average?</li>\n",
    "  <dd>- Posts submitted late at night or early in the morning are more likely to receive more comments on average.</dd>\n",
    "</ul>\n",
    "\n",
    "Further analysis may indicate if there are any outliers that have skewed these averages and if this is a general trend or not.\n"
   ]
  }
 ],
 "metadata": {
  "kernelspec": {
   "display_name": "Python 3 (ipykernel)",
   "language": "python",
   "name": "python3"
  },
  "language_info": {
   "codemirror_mode": {
    "name": "ipython",
    "version": 3
   },
   "file_extension": ".py",
   "mimetype": "text/x-python",
   "name": "python",
   "nbconvert_exporter": "python",
   "pygments_lexer": "ipython3",
   "version": "3.12.2"
  }
 },
 "nbformat": 4,
 "nbformat_minor": 5
}
