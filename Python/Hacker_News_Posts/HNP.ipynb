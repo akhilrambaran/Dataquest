{
 "cells": [
  {
   "cell_type": "code",
   "execution_count": 490,
   "metadata": {},
   "outputs": [
    {
     "data": {
      "text/html": [
       "\n",
       "                <script type=\"application/javascript\" id=\"jupyter_black\">\n",
       "                (function() {\n",
       "                    if (window.IPython === undefined) {\n",
       "                        return\n",
       "                    }\n",
       "                    var msg = \"WARNING: it looks like you might have loaded \" +\n",
       "                        \"jupyter_black in a non-lab notebook with \" +\n",
       "                        \"`is_lab=True`. Please double check, and if \" +\n",
       "                        \"loading with `%load_ext` please review the README!\"\n",
       "                    console.log(msg)\n",
       "                    alert(msg)\n",
       "                })()\n",
       "                </script>\n",
       "                "
      ],
      "text/plain": [
       "<IPython.core.display.HTML object>"
      ]
     },
     "metadata": {},
     "output_type": "display_data"
    }
   ],
   "source": [
    "from csv import reader\n",
    "from prettytable import PrettyTable\n",
    "from typing import List, Iterable\n",
    "import datetime as dt\n",
    "\n",
    "# Black formatter for Jupyter Notebooks\n",
    "%reload_ext jupyter_black"
   ]
  },
  {
   "cell_type": "code",
   "execution_count": 491,
   "metadata": {},
   "outputs": [
    {
     "data": {
      "text/plain": [
       "['id', 'title', 'url', 'num_points', 'num_comments', 'author', 'created_at']"
      ]
     },
     "execution_count": 491,
     "metadata": {},
     "output_type": "execute_result"
    }
   ],
   "source": [
    "with open(\"hacker_news.csv\", \"r\") as hn:\n",
    "    hn = list(reader(hn))\n",
    "\n",
    "headers = hn[0]\n",
    "hn = hn[1:]\n",
    "\n",
    "headers"
   ]
  },
  {
   "cell_type": "code",
   "execution_count": 492,
   "metadata": {},
   "outputs": [
    {
     "data": {
      "text/html": [
       "<table>\n",
       "    <thead>\n",
       "        <tr>\n",
       "            <th>Type of Posts</th>\n",
       "            <th>Total Comments</th>\n",
       "        </tr>\n",
       "    </thead>\n",
       "    <tbody>\n",
       "        <tr>\n",
       "            <td>Ask</td>\n",
       "            <td>1744</td>\n",
       "        </tr>\n",
       "        <tr>\n",
       "            <td>Show</td>\n",
       "            <td>1162</td>\n",
       "        </tr>\n",
       "        <tr>\n",
       "            <td>Other</td>\n",
       "            <td>17194</td>\n",
       "        </tr>\n",
       "    </tbody>\n",
       "</table>"
      ],
      "text/plain": [
       "+---------------+----------------+\n",
       "| Type of Posts | Total Comments |\n",
       "+---------------+----------------+\n",
       "|      Ask      |      1744      |\n",
       "|      Show     |      1162      |\n",
       "|     Other     |     17194      |\n",
       "+---------------+----------------+"
      ]
     },
     "execution_count": 492,
     "metadata": {},
     "output_type": "execute_result"
    }
   ],
   "source": [
    "ask_posts = []\n",
    "show_posts = []\n",
    "other_posts = []\n",
    "\n",
    "for row in hn:\n",
    "    title = row[1].lower()\n",
    "\n",
    "    if title.startswith(\"ask hn\"):  # startswith is case-insensitive\n",
    "        ask_posts.append(row)\n",
    "    elif title.startswith(\"show hn\"):\n",
    "        show_posts.append(row)\n",
    "    else:\n",
    "        other_posts.append(row)\n",
    "\n",
    "# View the number of posts in each list\n",
    "num_posts_per_type = PrettyTable([\"Type of Posts\", \"Total Comments\"])\n",
    "num_posts_per_type.add_rows(\n",
    "    [\n",
    "        [\"Ask\", len(ask_posts)],\n",
    "        [\"Show\", len(show_posts)],\n",
    "        [\"Other\", len(other_posts)],\n",
    "    ]\n",
    ")\n",
    "num_posts_per_type"
   ]
  },
  {
   "cell_type": "code",
   "execution_count": 493,
   "metadata": {
    "tags": []
   },
   "outputs": [],
   "source": [
    "def calculate_total_comments(posts: List[List[str]] | Iterable, index: int) -> int:\n",
    "    \"\"\"Calculate the total number of comments from the provided posts.\n",
    "\n",
    "    Args:\n",
    "      posts: The list of posts.\n",
    "      index: The index of the field containing the number of comments.\n",
    "\n",
    "    Returns:\n",
    "      The total number of comments.\n",
    "    \"\"\"\n",
    "    return sum([int(post[index]) for post in posts])\n",
    "\n",
    "\n",
    "def calculate_avg_comments(posts: List[List[str]] | Iterable, index: int) -> float:\n",
    "    \"\"\"Calculate the average number of comments for the posts.\n",
    "\n",
    "    Args:\n",
    "      posts: The list of posts.\n",
    "      index: The index of the field containing the number of comments.\n",
    "\n",
    "    Returns:\n",
    "      The average number of comments, formatted to 4 decimal places.\n",
    "    \"\"\"\n",
    "    return float(f\"{calculate_total_comments(posts, index) / len(posts):.4f}\")"
   ]
  },
  {
   "cell_type": "code",
   "execution_count": 494,
   "metadata": {},
   "outputs": [
    {
     "data": {
      "text/html": [
       "<table>\n",
       "    <thead>\n",
       "        <tr>\n",
       "            <th>Type of Posts</th>\n",
       "            <th>Total Comments</th>\n",
       "            <th>Average Comments</th>\n",
       "        </tr>\n",
       "    </thead>\n",
       "    <tbody>\n",
       "        <tr>\n",
       "            <td>Ask</td>\n",
       "            <td>24483</td>\n",
       "            <td>14.0384</td>\n",
       "        </tr>\n",
       "        <tr>\n",
       "            <td>Show</td>\n",
       "            <td>11988</td>\n",
       "            <td>10.3167</td>\n",
       "        </tr>\n",
       "    </tbody>\n",
       "</table>"
      ],
      "text/plain": [
       "+---------------+----------------+------------------+\n",
       "| Type of Posts | Total Comments | Average Comments |\n",
       "+---------------+----------------+------------------+\n",
       "|      Ask      |     24483      |     14.0384      |\n",
       "|      Show     |     11988      |     10.3167      |\n",
       "+---------------+----------------+------------------+"
      ]
     },
     "execution_count": 494,
     "metadata": {},
     "output_type": "execute_result"
    }
   ],
   "source": [
    "posts_per_type = PrettyTable([\"Type of Posts\", \"Total Comments\", \"Average Comments\"])\n",
    "posts_per_type.add_row(\n",
    "    [\n",
    "        \"Ask\",\n",
    "        calculate_total_comments(ask_posts, 4),\n",
    "        calculate_avg_comments(ask_posts, 4),\n",
    "    ]\n",
    ")\n",
    "posts_per_type.add_row(\n",
    "    [\n",
    "        \"Show\",\n",
    "        calculate_total_comments(show_posts, 4),\n",
    "        calculate_avg_comments(show_posts, 4),\n",
    "    ]\n",
    ")\n",
    "posts_per_type"
   ]
  },
  {
   "cell_type": "code",
   "execution_count": 495,
   "metadata": {},
   "outputs": [],
   "source": [
    "result_list = [[post[6], int(post[4])] for post in ask_posts]\n",
    "\n",
    "# TODO: CLEAN UP BELOW CODE\n",
    "counts_per_hour = {}\n",
    "comments_per_hour = {}\n",
    "\n",
    "for row in result_list:\n",
    "    date, comment = row[0], row[1]\n",
    "    hour = dt.datetime.strptime(date, \"%m/%d/%Y %H:%M\").strftime(\"%H\")\n",
    "\n",
    "    if hour not in counts_per_hour:\n",
    "        counts_per_hour[hour] = 1\n",
    "        comments_per_hour[hour] = comment\n",
    "    else:\n",
    "        counts_per_hour[hour] += 1\n",
    "        comments_per_hour[hour] += comment"
   ]
  },
  {
   "cell_type": "code",
   "execution_count": 496,
   "metadata": {},
   "outputs": [
    {
     "data": {
      "text/plain": [
       "[['09', 5.58],\n",
       " ['13', 14.74],\n",
       " ['10', 13.44],\n",
       " ['14', 13.23],\n",
       " ['16', 16.8],\n",
       " ['23', 7.99],\n",
       " ['12', 9.41],\n",
       " ['17', 11.46],\n",
       " ['15', 38.59],\n",
       " ['21', 16.01],\n",
       " ['20', 21.52],\n",
       " ['02', 23.81],\n",
       " ['18', 13.2],\n",
       " ['03', 7.8],\n",
       " ['05', 10.09],\n",
       " ['19', 10.8],\n",
       " ['01', 11.38],\n",
       " ['22', 6.75],\n",
       " ['08', 10.25],\n",
       " ['04', 7.17],\n",
       " ['00', 8.13],\n",
       " ['06', 9.02],\n",
       " ['07', 7.85],\n",
       " ['11', 11.05]]"
      ]
     },
     "execution_count": 496,
     "metadata": {},
     "output_type": "execute_result"
    }
   ],
   "source": [
    "avg_by_hour = [\n",
    "    [hour, round((comments_per_hour[hour] / counts_per_hour[hour]), 2)]\n",
    "    for hour in comments_per_hour\n",
    "]\n",
    "avg_by_hour"
   ]
  },
  {
   "cell_type": "code",
   "execution_count": 497,
   "metadata": {},
   "outputs": [
    {
     "data": {
      "text/plain": [
       "[[38.59, '15'],\n",
       " [23.81, '02'],\n",
       " [21.52, '20'],\n",
       " [16.8, '16'],\n",
       " [16.01, '21'],\n",
       " [14.74, '13'],\n",
       " [13.44, '10'],\n",
       " [13.23, '14'],\n",
       " [13.2, '18'],\n",
       " [11.46, '17'],\n",
       " [11.38, '01'],\n",
       " [11.05, '11'],\n",
       " [10.8, '19'],\n",
       " [10.25, '08'],\n",
       " [10.09, '05'],\n",
       " [9.41, '12'],\n",
       " [9.02, '06'],\n",
       " [8.13, '00'],\n",
       " [7.99, '23'],\n",
       " [7.85, '07'],\n",
       " [7.8, '03'],\n",
       " [7.17, '04'],\n",
       " [6.75, '22'],\n",
       " [5.58, '09']]"
      ]
     },
     "execution_count": 497,
     "metadata": {},
     "output_type": "execute_result"
    }
   ],
   "source": [
    "swap_avg_by_hour = [[x[1], x[0]] for x in avg_by_hour]\n",
    "sorted_swap = sorted(swap_avg_by_hour, key=lambda x: (x[0], x[1]), reverse=True)\n",
    "sorted_swap"
   ]
  },
  {
   "cell_type": "code",
   "execution_count": 498,
   "metadata": {},
   "outputs": [
    {
     "name": "stdout",
     "output_type": "stream",
     "text": [
      "15:00:00: 38.59 average comments per post\n",
      "02:00:00: 23.81 average comments per post\n",
      "20:00:00: 21.52 average comments per post\n",
      "16:00:00: 16.80 average comments per post\n",
      "21:00:00: 16.01 average comments per post\n"
     ]
    }
   ],
   "source": [
    "for post in sorted_swap[:5]:\n",
    "    time = dt.datetime.strptime(post[1], \"%H\").strftime(\"%X\")\n",
    "    avg_comments = post[0]\n",
    "    print(f\"{time}: {avg_comments:.2f} average comments per post\")\n",
    "\n",
    "# One-liner\n",
    "# for idx in range(5):\n",
    "#     print(\n",
    "#     f\"{dt.datetime.strptime(sorted_swap[idx][1],\"%H\").strftime(\"%X\")}: {sorted_swap[idx][0]:.2f} average comments per post\"\n",
    "#     )"
   ]
  }
 ],
 "metadata": {
  "kernelspec": {
   "display_name": "Python 3 (ipykernel)",
   "language": "python",
   "name": "python3"
  },
  "language_info": {
   "codemirror_mode": {
    "name": "ipython",
    "version": 3
   },
   "file_extension": ".py",
   "mimetype": "text/x-python",
   "name": "python",
   "nbconvert_exporter": "python",
   "pygments_lexer": "ipython3",
   "version": "3.12.2"
  }
 },
 "nbformat": 4,
 "nbformat_minor": 4
}
